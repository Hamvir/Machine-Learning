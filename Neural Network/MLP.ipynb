{
  "nbformat": 4,
  "nbformat_minor": 0,
  "metadata": {
    "colab": {
      "provenance": []
    },
    "kernelspec": {
      "name": "python3",
      "display_name": "Python 3"
    },
    "language_info": {
      "name": "python"
    }
  },
  "cells": [
    {
      "cell_type": "markdown",
      "source": [
        "# Multi Layer Perceptron"
      ],
      "metadata": {
        "id": "iKMnS2DDb9xY"
      }
    },
    {
      "cell_type": "code",
      "execution_count": 1,
      "metadata": {
        "id": "JdCa3zkZUJ4-"
      },
      "outputs": [],
      "source": [
        "import numpy as np\n",
        "import math"
      ]
    },
    {
      "cell_type": "code",
      "source": [
        "import math  # This library is to use normal math functions like exp,sin etc."
      ],
      "metadata": {
        "id": "Q7kF3SRXdYRW"
      },
      "execution_count": 2,
      "outputs": []
    },
    {
      "cell_type": "code",
      "source": [
        "# Mounting drive\n",
        "from google.colab import drive\n",
        "drive.mount('/content/drive')"
      ],
      "metadata": {
        "colab": {
          "base_uri": "https://localhost:8080/"
        },
        "id": "h6KcJckQm7eb",
        "outputId": "759ab190-6b40-491c-94e8-eb56731c1f7b"
      },
      "execution_count": 3,
      "outputs": [
        {
          "output_type": "stream",
          "name": "stdout",
          "text": [
            "Mounted at /content/drive\n"
          ]
        }
      ]
    },
    {
      "cell_type": "markdown",
      "source": [
        "## Preparing Dataset"
      ],
      "metadata": {
        "id": "8lYkmeCgUJ4_"
      }
    },
    {
      "cell_type": "code",
      "source": [
        "#below where the file is in gdrive, change with your\n",
        "data_path = \"/content/drive/MyDrive/Colab Notebooks/PRNN_A1/Prnn_datasets/\"\n",
        "dataset = np.loadtxt(data_path + 'PCA_MNIST.csv', delimiter=',',skiprows=1)"
      ],
      "metadata": {
        "id": "MHbcmEolUJ4_"
      },
      "execution_count": 4,
      "outputs": []
    },
    {
      "cell_type": "code",
      "source": [
        "dataset.shape"
      ],
      "metadata": {
        "colab": {
          "base_uri": "https://localhost:8080/"
        },
        "outputId": "aab3d5f0-0c85-47ee-eeb5-7c8f4caf1196",
        "id": "lVSMWRPJUJ5A"
      },
      "execution_count": 5,
      "outputs": [
        {
          "output_type": "execute_result",
          "data": {
            "text/plain": [
              "(60000, 11)"
            ]
          },
          "metadata": {},
          "execution_count": 5
        }
      ]
    },
    {
      "cell_type": "code",
      "source": [
        "# Normalising dataset needed to prevent exponent going to zero\n",
        "for i in range(1,dataset.shape[1]):\n",
        "  dataset[:,i] = (dataset[:,i]-dataset[:,i].min())/(dataset[:,i].max()-dataset[:,i].min())"
      ],
      "metadata": {
        "id": "wu8qmf4UUJ5B"
      },
      "execution_count": 6,
      "outputs": []
    },
    {
      "cell_type": "code",
      "source": [
        "count = 40000\n",
        "X_train = dataset[0:count,1:]\n",
        "Y_train =dataset[0:count,0]\n",
        "X_test = dataset[count:,1:]\n",
        "Y_test = dataset[count:,0]"
      ],
      "metadata": {
        "id": "IsI6s-mhUJ5B"
      },
      "execution_count": 7,
      "outputs": []
    },
    {
      "cell_type": "code",
      "source": [
        "classes = 10"
      ],
      "metadata": {
        "id": "3rB2BueMsX8r"
      },
      "execution_count": 8,
      "outputs": []
    },
    {
      "cell_type": "markdown",
      "source": [
        "## Creating Neural Network"
      ],
      "metadata": {
        "id": "dye4EA0AUJ5C"
      }
    },
    {
      "cell_type": "code",
      "source": [
        "class neural_net:\n",
        "  def __init__(self,input_size,neurons):\n",
        "    #self.weights = 0.1 * np.ones((input_size,neurons))\n",
        "    self.weights =  np.random.randn(input_size,neurons)\n",
        "    self.biases = np.zeros((neurons,1))\n",
        "  def forward(self,inputs):\n",
        "    self.inputs = inputs\n",
        "    self.output = self.weights.T@inputs + self.biases\n",
        "  def backward(self,dvalues):\n",
        "    self.dweights = self.inputs@dvalues.T  #gives a matrix\n",
        "    self.dbiases =  dvalues\n",
        "\n",
        "    self.dinputs = self.weights@dvalues"
      ],
      "metadata": {
        "id": "_EmDIlZqUJ5C"
      },
      "execution_count": 9,
      "outputs": []
    },
    {
      "cell_type": "code",
      "source": [
        "class sigmoid_activation:\n",
        "  def forward(self,input):\n",
        "    self.inputs = input\n",
        "    self.output = 1/(1+np.exp(-input))\n",
        "  def backward(self,dvalues):\n",
        "    self.dinputs = dvalues * self.output * (1-self.output)"
      ],
      "metadata": {
        "id": "itIyX4fzUJ5C"
      },
      "execution_count": 10,
      "outputs": []
    },
    {
      "cell_type": "code",
      "source": [
        "class relu_activation:\n",
        "  def forward(self,input):\n",
        "    self.inputs = input\n",
        "    self.output = np.maximum(0,input)\n",
        "    #self.output = np.minimum(self.output,1)\n",
        "  def backward(self,dvalues):\n",
        "    self.dinputs = dvalues * np.greater(self.inputs, 0).astype(int)\n",
        "    #self.dinputs = self.dinputs * np.less(self.dinputs, 1).astype(int)"
      ],
      "metadata": {
        "id": "GbEDyLD2xpZr"
      },
      "execution_count": 11,
      "outputs": []
    },
    {
      "cell_type": "code",
      "source": [
        "class softmax_activation:\n",
        "  def forward(self,input):\n",
        "    self.input = input\n",
        "    exp_values = np.exp(input)\n",
        "    prob = exp_values/(np.sum(exp_values))\n",
        "    self.output = prob\n",
        "  def backward(self,dvalues):\n",
        "    s =dvalues.shape[0]\n",
        "    jac = np.zeros((s,s))\n",
        "    for i in range(s):\n",
        "      for j in range(s):\n",
        "        k=0\n",
        "        if i==j:\n",
        "          k=1\n",
        "        jac[i][j]= self.output[i][0]*(k-self.output[j][0])  #ddi/dnj\n",
        "    self.dinputs = jac.T@dvalues"
      ],
      "metadata": {
        "id": "1UOL3v8PUJ5D"
      },
      "execution_count": 12,
      "outputs": []
    },
    {
      "cell_type": "code",
      "source": [
        "class grad_des_optimizer:\n",
        "  def __init__(self,alpha = 0.01):\n",
        "    self.alpha = alpha\n",
        "  def store_params(self,layer):\n",
        "    if not hasattr(layer,'sgd_flag'):\n",
        "      layer.sgd_flag = 1\n",
        "      #print(\"Hi\")\n",
        "      layer.dweight_curr_itr_sum = np.zeros_like(layer.weights)\n",
        "      layer.dbias_curr_itr_sum = np.zeros_like(layer.biases)\n",
        "\n",
        "    layer.dweight_curr_itr_sum = layer.dweight_curr_itr_sum + layer.dweights\n",
        "    layer.dbias_curr_itr_sum = layer.dbias_curr_itr_sum + layer.dbiases\n",
        "  def update(self,layer,batch_size):\n",
        "    layer.weights = layer.weights -  self.alpha * layer.dweight_curr_itr_sum/batch_size\n",
        "    layer.biases = layer.biases -  self.alpha * layer.dbias_curr_itr_sum/batch_size\n",
        "\n",
        "    layer.dweight_curr_itr_sum = np.zeros_like(layer.weights)\n",
        "    layer.dbias_curr_itr_sum = np.zeros_like(layer.biases)"
      ],
      "metadata": {
        "id": "KLyGBIXiUJ5D"
      },
      "execution_count": 13,
      "outputs": []
    },
    {
      "cell_type": "code",
      "source": [
        "class adam_optimizer:\n",
        "  def __init__(self,alpha = 0.01,beta_1=0.9,beta_2=0.9):\n",
        "    self.alpha = alpha\n",
        "    self.beta_1 = beta_1\n",
        "    self.beta_2 = beta_2\n",
        "  def store_params(self,layer):\n",
        "    if not hasattr(layer,'adam_flag'):\n",
        "      layer.adam_flag=1\n",
        "      layer.dweight_sum = np.zeros_like(layer.weights)\n",
        "      layer.dbias_sum = np.zeros_like(layer.biases)\n",
        "      layer.dweight_sq_sum = np.zeros_like(layer.weights)\n",
        "      layer.dbias_sq_sum = np.zeros_like(layer.biases)\n",
        "\n",
        "      layer.dweight_curr_itr_sum = np.zeros_like(layer.weights)\n",
        "      layer.dbias_curr_itr_sum = np.zeros_like(layer.biases)\n",
        "\n",
        "    layer.dweight_sum = self.beta_1*layer.dweight_sum+(1-self.beta_1)*layer.dweights\n",
        "    layer.dbias_sum =  self.beta_1*layer.dbias_sum+(1-self.beta_1)*layer.dbiases\n",
        "    layer.dweight_sq_sum = self.beta_2*layer.dweight_sq_sum+(1-self.beta_2)*layer.dweights**2\n",
        "    layer.dbias_sq_sum =  self.beta_2*layer.dbias_sq_sum+(1-self.beta_2)*layer.dbiases**2\n",
        "    layer.dweight_curr_itr_sum = layer.dweight_curr_itr_sum + layer.dweights\n",
        "    layer.dbias_sq_sum = layer.dbias_sq_sum + layer.dbiases\n",
        "  def update(self,layer,batch_size):\n",
        "    layer.weights = layer.weights -  self.alpha* layer.dweight_curr_itr_sum/batch_size\n",
        "    layer.biases = layer.biases -  self.alpha * layer.dbias_curr_itr_sum/batch_size\n",
        "\n",
        "    layer.dweight_curr_itr_sum = np.zeros_like(layer.weights)\n",
        "    layer.dbias_curr_itr_sum = np.zeros_like(layer.biases)"
      ],
      "metadata": {
        "id": "heRhODjDUJ5E"
      },
      "execution_count": 14,
      "outputs": []
    },
    {
      "cell_type": "markdown",
      "source": [
        "## Training with Squared error loss"
      ],
      "metadata": {
        "id": "9uApETG_chvG"
      }
    },
    {
      "cell_type": "markdown",
      "source": [
        "Here is the process to train the above classes of neural nets and use them you can choose parameters in below steps according to your choice"
      ],
      "metadata": {
        "id": "wztmxmCycoj6"
      }
    },
    {
      "cell_type": "code",
      "source": [
        "sgd_opt = grad_des_optimizer(0.1) # This constant step size is choosen by trial and error"
      ],
      "metadata": {
        "id": "ErWSfNCGUJ5F"
      },
      "execution_count": 17,
      "outputs": []
    },
    {
      "cell_type": "code",
      "source": [
        "# creating 3 layer neural net\n",
        "layer1 = neural_net(10,50)\n",
        "act1 = sigmoid_activation()\n",
        "layer2 = neural_net(50,25)\n",
        "act2 = sigmoid_activation()\n",
        "layer3 = neural_net(25,10)"
      ],
      "metadata": {
        "id": "f1W20ZWfUJ5F"
      },
      "execution_count": 18,
      "outputs": []
    },
    {
      "cell_type": "code",
      "source": [
        "#Training\n",
        "nb = 1  #batch size\n",
        "for epochs in range(20):\n",
        "  loss = 0\n",
        "  for i in range(X_train.shape[0]):\n",
        "\n",
        "    x=X_train[i,:]\n",
        "    y = Y_train[i]\n",
        "    x = x.reshape((x.shape[0],1))\n",
        "    yl = np.zeros((classes,1))          # y is label\n",
        "    yl[int(y)][0]=1\n",
        "\n",
        "    layer1.forward(x)    # x is feature vector\n",
        "    act1.forward(layer1.output)\n",
        "    layer2.forward(act1.output)\n",
        "    act2.forward(layer2.output)\n",
        "    layer3.forward(act2.output)\n",
        "    pred = layer3.output\n",
        "    \n",
        "    loss = loss+np.linalg.norm(pred-yl)\n",
        "    dinput_l = (pred-yl)     # Check the sign here else will diverge, it is squared errors gradient\n",
        "\n",
        "    layer3.backward(dinput_l)\n",
        "    sgd_opt.store_params(layer3)\n",
        "\n",
        "    act2.backward(layer3.dinputs)\n",
        "\n",
        "    layer2.backward(act2.dinputs)\n",
        "    sgd_opt.store_params(layer2)\n",
        "\n",
        "    act1.backward(layer2.dinputs)\n",
        "\n",
        "    layer1.backward(act1.dinputs)\n",
        "    sgd_opt.store_params(layer1)\n",
        "\n",
        "    if(i%nb==0):\n",
        "      sgd_opt.update(layer3,nb)\n",
        "      sgd_opt.update(layer2,nb)\n",
        "      sgd_opt.update(layer1,nb)\n",
        "\n",
        "  print(loss)\n",
        "\n",
        "  # opt.update(layer3,2)\n",
        "  # opt.update(layer2,2)\n",
        "  # opt.update(layer1,2)"
      ],
      "metadata": {
        "colab": {
          "base_uri": "https://localhost:8080/"
        },
        "outputId": "c667d71a-7617-4169-b884-a81c6bc62a18",
        "id": "qP4_67ktUJ5G"
      },
      "execution_count": 19,
      "outputs": [
        {
          "output_type": "stream",
          "name": "stdout",
          "text": [
            "28745.098063529433\n",
            "18394.33669513019\n",
            "15386.301971825073\n",
            "14586.100368465308\n",
            "14063.013494455547\n",
            "13620.101088903328\n",
            "13232.590632113346\n",
            "12897.565650435008\n",
            "12598.195460709798\n",
            "12326.006796266829\n",
            "12075.741882531656\n",
            "11843.627845919847\n",
            "11626.63815712184\n",
            "11422.136846387892\n",
            "11227.484493485514\n",
            "11040.458821642507\n",
            "10861.051876421514\n",
            "10691.135794521319\n",
            "10531.893246129359\n",
            "10384.108533645149\n"
          ]
        }
      ]
    },
    {
      "cell_type": "code",
      "source": [
        "#Testing\n",
        "conf_matrix = np.zeros((classes,classes))\n",
        "loss = 0\n",
        "count = 0\n",
        "for i in range(X_test.shape[0]):\n",
        "  x = X_test[i,:]\n",
        "  y = Y_test[i]\n",
        "  x = x.reshape((x.shape[0],1))\n",
        "  yl = np.zeros((classes,1))          # y is label\n",
        "  yl[int(y)][0]=1\n",
        "\n",
        "  layer1.forward(x)    # x is feature vector\n",
        "  act1.forward(layer1.output)\n",
        "  layer2.forward(act1.output)\n",
        "  act2.forward(layer2.output)\n",
        "  layer3.forward(act2.output)\n",
        "  pred = layer3.output\n",
        "\n",
        "  loss = loss+np.linalg.norm(pred-yl)\n",
        "  if np.argmax(pred)==int(y):\n",
        "    count+=1\n",
        "  k = np.argmax(pred)\n",
        "  v = int(y)\n",
        "  conf_matrix[v][k] += 1\n",
        "print(loss)\n",
        "print(count * 100 /X_test.shape[0])\n"
      ],
      "metadata": {
        "colab": {
          "base_uri": "https://localhost:8080/"
        },
        "outputId": "e17878dc-5240-48fb-bc7e-7f63a907db6a",
        "id": "W7A3wMlEUJ5G"
      },
      "execution_count": 20,
      "outputs": [
        {
          "output_type": "stream",
          "name": "stdout",
          "text": [
            "5754.1571336063935\n",
            "92.92\n"
          ]
        }
      ]
    },
    {
      "cell_type": "markdown",
      "source": [
        "## Training with cross entropy loss"
      ],
      "metadata": {
        "id": "aQzDR1GCc74c"
      }
    },
    {
      "cell_type": "code",
      "source": [
        "sgd_opt = grad_des_optimizer()"
      ],
      "metadata": {
        "id": "fsGbI2UpUJ5N"
      },
      "execution_count": 21,
      "outputs": []
    },
    {
      "cell_type": "code",
      "source": [
        "# creating 3 layer neural net\n",
        "layer1 = neural_net(10,50)\n",
        "act1 = sigmoid_activation()\n",
        "layer2 = neural_net(50,25)\n",
        "act2 = sigmoid_activation()\n",
        "layer3 = neural_net(25,10)\n",
        "softmax = softmax_activation()"
      ],
      "metadata": {
        "id": "PLlSRHGkUJ5N"
      },
      "execution_count": 22,
      "outputs": []
    },
    {
      "cell_type": "code",
      "source": [
        "#Training\n",
        "nb = 1  #batch size\n",
        "for epochs in range(20):\n",
        "  loss = 0\n",
        "  for i in range(X_train.shape[0]):\n",
        "\n",
        "    x=X_train[i,:]\n",
        "    y = Y_train[i]\n",
        "    x = x.reshape((x.shape[0],1))\n",
        "    yl = np.zeros((classes,1))          # y is label\n",
        "    yl[int(y)][0]=1\n",
        "\n",
        "    layer1.forward(x)    # x is feature vector\n",
        "    act1.forward(layer1.output)\n",
        "    layer2.forward(act1.output)\n",
        "    act2.forward(layer2.output)\n",
        "    layer3.forward(act2.output)\n",
        "    softmax.forward(layer3.output)\n",
        "    pred = softmax.output\n",
        "    \n",
        "    loss = loss-math.log(pred[int(y)])\n",
        "    dinput_l = -yl * 1/pred     # take loss derivative wrt pred, it is cross entropy loss gradient\n",
        "\n",
        "    softmax.backward(dinput_l)\n",
        "\n",
        "    layer3.backward(softmax.dinputs)\n",
        "    sgd_opt.store_params(layer3)\n",
        "\n",
        "    act2.backward(layer3.dinputs)\n",
        "\n",
        "    layer2.backward(act2.dinputs)\n",
        "    sgd_opt.store_params(layer2)\n",
        "\n",
        "    act1.backward(layer2.dinputs)\n",
        "\n",
        "    layer1.backward(act1.dinputs)\n",
        "    sgd_opt.store_params(layer1)\n",
        "\n",
        "    if(i%nb==0):\n",
        "      sgd_opt.update(layer3,nb)\n",
        "      sgd_opt.update(layer2,nb)\n",
        "      sgd_opt.update(layer1,nb)\n",
        "\n",
        "  print(loss)\n",
        "\n",
        "  # opt.update(layer3,2)\n",
        "  # opt.update(layer2,2)\n",
        "  # opt.update(layer1,2)"
      ],
      "metadata": {
        "colab": {
          "base_uri": "https://localhost:8080/"
        },
        "outputId": "60b7d058-de91-4a74-fda5-53b3409a50ff",
        "id": "Ea0QqCn6UJ5N"
      },
      "execution_count": 23,
      "outputs": [
        {
          "output_type": "stream",
          "name": "stdout",
          "text": [
            "34819.31707318891\n",
            "14735.776289706706\n",
            "12745.58835445112\n",
            "11693.636769428529\n",
            "10950.60169713977\n",
            "10375.246006246432\n",
            "9911.843359016253\n",
            "9527.952788717914\n",
            "9204.8666622844\n",
            "8931.67726381843\n",
            "8700.236996402935\n",
            "8503.13899787281\n",
            "8333.4905700754\n",
            "8185.277295503866\n",
            "8053.608953889134\n",
            "7934.696557741912\n",
            "7825.666273092317\n",
            "7724.33590403251\n",
            "7629.0160056697305\n",
            "7538.367229042178\n"
          ]
        }
      ]
    },
    {
      "cell_type": "code",
      "source": [
        "#Testing\n",
        "conf_matrix = np.zeros((classes,classes))\n",
        "loss = 0\n",
        "count = 0\n",
        "for i in range(X_test.shape[0]):\n",
        "  x = X_test[i,:]\n",
        "  y = Y_test[i]\n",
        "  x = x.reshape((x.shape[0],1))\n",
        "  yl = np.zeros((classes,1))          # y is label\n",
        "  yl[int(y)][0]=1\n",
        "\n",
        "  layer1.forward(x)    # x is feature vector\n",
        "  act1.forward(layer1.output)\n",
        "  layer2.forward(act1.output)\n",
        "  act2.forward(layer2.output)\n",
        "  layer3.forward(act2.output)\n",
        "  softmax.forward(layer3.output)\n",
        "  pred = softmax.output\n",
        "\n",
        "  loss = loss-math.log(pred[int(y)])\n",
        "  if np.argmax(pred)==int(y):\n",
        "    count+=1\n",
        "  k = np.argmax(pred)\n",
        "  v = int(y)\n",
        "  conf_matrix[v][k] += 1\n",
        "print(loss)\n",
        "print(count * 100 /X_test.shape[0])\n"
      ],
      "metadata": {
        "colab": {
          "base_uri": "https://localhost:8080/"
        },
        "outputId": "60ac4201-0919-4ebe-b064-d64cc0c4a972",
        "id": "xe1xiBNkUJ5O"
      },
      "execution_count": 24,
      "outputs": [
        {
          "output_type": "stream",
          "name": "stdout",
          "text": [
            "4339.391546049375\n",
            "92.525\n"
          ]
        }
      ]
    }
  ]
}