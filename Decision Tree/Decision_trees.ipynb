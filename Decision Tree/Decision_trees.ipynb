{
  "nbformat": 4,
  "nbformat_minor": 0,
  "metadata": {
    "colab": {
      "provenance": []
    },
    "kernelspec": {
      "name": "python3",
      "display_name": "Python 3"
    },
    "language_info": {
      "name": "python"
    }
  },
  "cells": [
    {
      "cell_type": "markdown",
      "source": [
        "# Decision Tree"
      ],
      "metadata": {
        "id": "krb0yG-5Hwe5"
      }
    },
    {
      "cell_type": "code",
      "execution_count": 1,
      "metadata": {
        "id": "RInJTpj-ZhcS"
      },
      "outputs": [],
      "source": [
        "import numpy as np\n",
        "import math"
      ]
    },
    {
      "cell_type": "code",
      "source": [
        "# Mounting drive\n",
        "from google.colab import drive\n",
        "drive.mount('/content/drive')"
      ],
      "metadata": {
        "colab": {
          "base_uri": "https://localhost:8080/"
        },
        "id": "h6KcJckQm7eb",
        "outputId": "e6f89435-feb0-4820-ac7a-8ba83f64af75"
      },
      "execution_count": 2,
      "outputs": [
        {
          "output_type": "stream",
          "name": "stdout",
          "text": [
            "Mounted at /content/drive\n"
          ]
        }
      ]
    },
    {
      "cell_type": "markdown",
      "source": [
        "## Preparing Dataset"
      ],
      "metadata": {
        "id": "AE1_jrpiH-k7"
      }
    },
    {
      "cell_type": "code",
      "execution_count": 9,
      "metadata": {
        "id": "_u8l2ZKAIFP-"
      },
      "outputs": [],
      "source": [
        "import numpy as np\n",
        "import math"
      ]
    },
    {
      "cell_type": "code",
      "source": [
        "#below where the file is in gdrive, change with your\n",
        "data_path = \"/content/drive/MyDrive/Colab Notebooks/PRNN_A1/Prnn_datasets/\"\n",
        "dataset = np.loadtxt(data_path + 'PCA_MNIST.csv', delimiter=',',skiprows=1)"
      ],
      "metadata": {
        "id": "MHbcmEolUJ4_"
      },
      "execution_count": 10,
      "outputs": []
    },
    {
      "cell_type": "code",
      "source": [
        "dataset.shape"
      ],
      "metadata": {
        "colab": {
          "base_uri": "https://localhost:8080/"
        },
        "outputId": "62097993-ac10-4756-d067-2df0e134b966",
        "id": "lVSMWRPJUJ5A"
      },
      "execution_count": 11,
      "outputs": [
        {
          "output_type": "execute_result",
          "data": {
            "text/plain": [
              "(60000, 11)"
            ]
          },
          "metadata": {},
          "execution_count": 11
        }
      ]
    },
    {
      "cell_type": "code",
      "source": [
        "# Normalizing dataset\n",
        "for i in range(1,dataset.shape[1]):\n",
        "  dataset[:,i] = (dataset[:,i]-dataset[:,i].min())/(dataset[:,i].max()-dataset[:,i].min())"
      ],
      "metadata": {
        "id": "wu8qmf4UUJ5B"
      },
      "execution_count": 12,
      "outputs": []
    },
    {
      "cell_type": "code",
      "source": [
        "classes = 10\n",
        "features = 10"
      ],
      "metadata": {
        "id": "3rB2BueMsX8r"
      },
      "execution_count": 15,
      "outputs": []
    },
    {
      "cell_type": "code",
      "source": [
        "train_dataset = dataset[0:40000,:]\n",
        "test_dataset = dataset[40000:,:]"
      ],
      "metadata": {
        "id": "mWPYUfNsueDQ"
      },
      "execution_count": 16,
      "outputs": []
    },
    {
      "cell_type": "markdown",
      "source": [
        "## Creating decision tree class"
      ],
      "metadata": {
        "id": "SNIXV_xMIdh3"
      }
    },
    {
      "cell_type": "markdown",
      "source": [
        "Some useful functions are defined before defining the decision tree class, that are used for building decision tree"
      ],
      "metadata": {
        "id": "AWVWIv5CJ9jZ"
      }
    },
    {
      "cell_type": "markdown",
      "source": [
        "Here I have assumed the class labels in dataset is present in first column"
      ],
      "metadata": {
        "id": "s49qTbuhM5eo"
      }
    },
    {
      "cell_type": "code",
      "source": [
        "class node():\n",
        "  def __init__(self, value,feature,left,right,leaf,depth,cls):\n",
        "    self.value = value\n",
        "    self.left = left\n",
        "    self.right = right\n",
        "    self.depth = depth\n",
        "    self.leaf = leaf\n",
        "    self.feature = feature\n",
        "    self.cls  = cls "
      ],
      "metadata": {
        "id": "0uCl2iSAbAlx"
      },
      "execution_count": 17,
      "outputs": []
    },
    {
      "cell_type": "code",
      "source": [
        "def entropy(D):\n",
        "  sum = 0\n",
        "  x = np.unique(D[:,0])\n",
        "  for i in range(x.shape[0]):\n",
        "    d = D[D[:,0]==x[i]]\n",
        "    p = d.shape[0]/D.shape[0]\n",
        "    temp = p * math.log(p)\n",
        "    sum =sum + temp\n",
        "  sum = -sum\n",
        "  return(sum)"
      ],
      "metadata": {
        "id": "H-O29Jsen3WP"
      },
      "execution_count": 36,
      "outputs": []
    },
    {
      "cell_type": "code",
      "source": [
        "def gini_index(D):\n",
        "  sum = 0\n",
        "  x = np.unique(D[:,0])\n",
        "  for i in range(x.shape[0]):\n",
        "    d = D[D[:,0]==x[i]]\n",
        "    p = d.shape[0]/D.shape[0]\n",
        "    sum =sum + p*(1-p)\n",
        "  return(sum)"
      ],
      "metadata": {
        "id": "-WifNV2PXnyc"
      },
      "execution_count": 19,
      "outputs": []
    },
    {
      "cell_type": "code",
      "source": [
        "def maj(D):\n",
        "  x = np.unique(D[:,0])\n",
        "  max_cls = 0\n",
        "  max_count = 0\n",
        "  for i in range(x.shape[0]):\n",
        "    d = D[D[:,0]==x[i]]\n",
        "    if(max_count<d.shape[0]):\n",
        "      max_count = d.shape[0]\n",
        "      max_cls = x[i]\n",
        "  return(max_cls)"
      ],
      "metadata": {
        "id": "dXm35pt3ttEM"
      },
      "execution_count": 20,
      "outputs": []
    },
    {
      "cell_type": "code",
      "source": [
        "def perc_maj_cls(D):\n",
        "  x = np.unique(D[:,0])\n",
        "  max_cls = 0\n",
        "  max_count = 0\n",
        "  for i in range(x.shape[0]):\n",
        "    d = D[D[:,0]==x[i]]\n",
        "    if(max_count<d.shape[0]):\n",
        "      max_count = d.shape[0]\n",
        "      max_cls = x[i]\n",
        "  if(max_count/D.shape[0] >0.95):\n",
        "    return(max_cls)\n",
        "  else:\n",
        "    return(-1)"
      ],
      "metadata": {
        "id": "CyPay6qmxZq2"
      },
      "execution_count": 21,
      "outputs": []
    },
    {
      "cell_type": "code",
      "source": [
        "def grow_trees_entropy(D,depth,k): # k is max depth\n",
        "  if(depth>=k or D.shape[0]==0):          # user defined depth\n",
        "    return(None)\n",
        "  cls = perc_maj_cls(D)\n",
        "  if(cls!=-1):\n",
        "    return(node(0,0,None,None,1,depth,cls))\n",
        "  ent = -1\n",
        "  featur=0\n",
        "  value=0\n",
        "  for features in range(1,D.shape[1]): # first column is ans\n",
        "    # d = D[:,features]\n",
        "    # d = np.unique(d)                 # commented code necessary if want to check for each datapoint\n",
        "    # d = np.sort(d)\n",
        "    for i in range(1,100):\n",
        "      d1 = D[D[:,features]<i/100]\n",
        "      d2 = D[D[:,features]>=i/100]\n",
        "      p1 = d1.shape[0]/D.shape[0]\n",
        "      p2 = d2.shape[0]/D.shape[0]\n",
        "      entropy_split = p1 * entropy(d1)+ p2*entropy(d2)\n",
        "      if(entropy_split<ent or ent==-1):\n",
        "        featur = features\n",
        "        value = i/100\n",
        "        D1 = d1\n",
        "        D2 = d2\n",
        "        ent =entropy_split\n",
        "  left = grow_trees_entropy(D1,depth+1,k)\n",
        "  right = grow_trees_entropy(D2,depth+1,k)\n",
        "  leaf = 0\n",
        "  if left==None and right == None:\n",
        "    cls = maj(D)\n",
        "    leaf = 1\n",
        "  else:\n",
        "    cls = -1\n",
        "  return(node(value,featur,left,right,leaf,depth,cls))"
      ],
      "metadata": {
        "id": "VIKvUZQaffxW"
      },
      "execution_count": 22,
      "outputs": []
    },
    {
      "cell_type": "code",
      "source": [
        "def grow_trees_gini(D,depth,k): # k is max depth\n",
        "  if(depth>=k or D.shape[0]==0):          # user defined depth\n",
        "    return(None)\n",
        "  cls = perc_maj_cls(D)\n",
        "  if(cls!=-1):\n",
        "    return(node(0,0,None,None,1,depth,cls))\n",
        "  ent = -1\n",
        "  featur=0\n",
        "  value=0\n",
        "  for features in range(1,D.shape[1]): # first column is ans\n",
        "    # d = D[:,features]\n",
        "    # d = np.unique(d)                 # commented code necessary if want to check for each datapoint\n",
        "    # d = np.sort(d)\n",
        "    for i in range(1,100):\n",
        "      d1 = D[D[:,features]<i/100]\n",
        "      d2 = D[D[:,features]>=i/100]\n",
        "      p1 = d1.shape[0]/D.shape[0]\n",
        "      p2 = d2.shape[0]/D.shape[0]\n",
        "      gini_split = p1 * gini_index(d1)+ p2*gini_index(d2)\n",
        "      if(gini_split<ent or ent==-1):\n",
        "        featur = features\n",
        "        value = i/100\n",
        "        D1 = d1\n",
        "        D2 = d2\n",
        "        ent =gini_split\n",
        "  left = grow_trees_gini(D1,depth+1,k)\n",
        "  right = grow_trees_gini(D2,depth+1,k)\n",
        "  leaf = 0\n",
        "  if left==None and right == None:\n",
        "    cls = maj(D)\n",
        "    leaf = 1\n",
        "  else:\n",
        "    cls = -1\n",
        "  return(node(value,featur,left,right,leaf,depth,cls))"
      ],
      "metadata": {
        "id": "1ovo4Mo7XLTf"
      },
      "execution_count": 26,
      "outputs": []
    },
    {
      "cell_type": "code",
      "source": [
        "def run_decision_tree(D,root):\n",
        "  y=np.zeros(D.shape[0])\n",
        "  for i in range(D.shape[0]):\n",
        "    nd =root\n",
        "    while(1):\n",
        "      if nd.leaf ==1:\n",
        "        y[i] = nd.cls\n",
        "        break\n",
        "      if(D[i][nd.feature]<nd.value):\n",
        "        nd = nd.left\n",
        "      else:\n",
        "        nd = nd.right\n",
        "  return(y)"
      ],
      "metadata": {
        "id": "VSC2JIX2oGd-"
      },
      "execution_count": 27,
      "outputs": []
    },
    {
      "cell_type": "code",
      "source": [
        "def print_tree(nd):\n",
        "  print(nd.value,nd.feature,nd.depth,nd.leaf)\n",
        "  if(nd.left!=None):\n",
        "    print_tree(nd.left)\n",
        "  if(nd.right!=None):\n",
        "    print_tree(nd.right)"
      ],
      "metadata": {
        "id": "hHlv0MYr7PeW"
      },
      "execution_count": 28,
      "outputs": []
    },
    {
      "cell_type": "code",
      "source": [
        "class Decision_tree:\n",
        "  def __init__(self,max_depth=10,gini_flag=0):\n",
        "    self.max_depth = max_depth\n",
        "    self.gini_flag=gini_flag\n",
        "  def train(self,D): # Pass a dataset and max_depth of decision tree as parameter\n",
        "    if self.gini_flag==0:\n",
        "      self.root = grow_trees_entropy(D,0,self.max_depth)\n",
        "    else:\n",
        "      self.root = grow_trees_gini(D,0,self.max_depth)\n",
        "\n",
        "  def test(self,D):\n",
        "    y = run_decision_tree(D,self.root)\n",
        "    acc = np.sum(y==D[:,0])/D.shape[0]\n",
        "    return(acc*100)\n",
        "\n",
        "  def predict(self,D):\n",
        "    y = run_decision_tree(D,self.root)\n",
        "    return(y)"
      ],
      "metadata": {
        "id": "4zpl4prrIfd0"
      },
      "execution_count": 33,
      "outputs": []
    },
    {
      "cell_type": "markdown",
      "source": [
        "## Testing working of Decision tree class on example dataset"
      ],
      "metadata": {
        "id": "j_HNS1WuNdDh"
      }
    },
    {
      "cell_type": "code",
      "source": [
        "tree = Decision_tree()"
      ],
      "metadata": {
        "id": "arB7eEMaNj51"
      },
      "execution_count": 34,
      "outputs": []
    },
    {
      "cell_type": "code",
      "source": [
        "tree.train(train_dataset)"
      ],
      "metadata": {
        "id": "yDb_oWD-Nm1z"
      },
      "execution_count": 37,
      "outputs": []
    },
    {
      "cell_type": "code",
      "source": [
        "acc = tree.test(train_dataset)\n",
        "print(\"train_acc is \",acc)"
      ],
      "metadata": {
        "colab": {
          "base_uri": "https://localhost:8080/"
        },
        "id": "xMJFcz29N4Cg",
        "outputId": "031bfdb0-5002-40ef-88c1-209eedae85c7"
      },
      "execution_count": 38,
      "outputs": [
        {
          "output_type": "stream",
          "name": "stdout",
          "text": [
            "train_acc is  89.58749999999999\n"
          ]
        }
      ]
    },
    {
      "cell_type": "code",
      "source": [
        "acc = tree.test(test_dataset)\n",
        "print(\"train_acc is \",acc)"
      ],
      "metadata": {
        "colab": {
          "base_uri": "https://localhost:8080/"
        },
        "id": "ImDyZOZcOUzM",
        "outputId": "8d52d030-dd74-4b1d-d6f1-4ad9b6ff4114"
      },
      "execution_count": 39,
      "outputs": [
        {
          "output_type": "stream",
          "name": "stdout",
          "text": [
            "train_acc is  90.705\n"
          ]
        }
      ]
    },
    {
      "cell_type": "code",
      "source": [
        "y = tree.predict(test_dataset)"
      ],
      "metadata": {
        "id": "1sDQ__oXOc1W"
      },
      "execution_count": 40,
      "outputs": []
    }
  ]
}