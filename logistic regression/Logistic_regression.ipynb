{
  "nbformat": 4,
  "nbformat_minor": 0,
  "metadata": {
    "colab": {
      "provenance": []
    },
    "kernelspec": {
      "name": "python3",
      "display_name": "Python 3"
    },
    "language_info": {
      "name": "python"
    }
  },
  "cells": [
    {
      "cell_type": "markdown",
      "source": [
        "# Logistic Regression"
      ],
      "metadata": {
        "id": "4qacguRRPqrL"
      }
    },
    {
      "cell_type": "code",
      "execution_count": 39,
      "metadata": {
        "id": "oEPJYb3Yl_iJ"
      },
      "outputs": [],
      "source": [
        "import numpy as np\n",
        "import matplotlib.pyplot as plt"
      ]
    },
    {
      "cell_type": "code",
      "source": [
        "import math  # This library is to use normal math functions like exp,sin etc."
      ],
      "metadata": {
        "id": "Q7kF3SRXdYRW"
      },
      "execution_count": 40,
      "outputs": []
    },
    {
      "cell_type": "code",
      "source": [
        "# Mounting drive\n",
        "from google.colab import drive\n",
        "drive.mount('/content/drive')"
      ],
      "metadata": {
        "colab": {
          "base_uri": "https://localhost:8080/"
        },
        "id": "h6KcJckQm7eb",
        "outputId": "8f29d364-f87e-4f77-f7dc-2bc5d6bb2714"
      },
      "execution_count": 41,
      "outputs": [
        {
          "output_type": "stream",
          "name": "stdout",
          "text": [
            "Drive already mounted at /content/drive; to attempt to forcibly remount, call drive.mount(\"/content/drive\", force_remount=True).\n"
          ]
        }
      ]
    },
    {
      "cell_type": "markdown",
      "source": [
        "## Importing data"
      ],
      "metadata": {
        "id": "KFRjfG5gR4_a"
      }
    },
    {
      "cell_type": "code",
      "source": [
        "#below where the file is in gdrive, change with your\n",
        "data_path = \"/content/drive/MyDrive/Colab Notebooks/PRNN_A1/Prnn_datasets/\"\n",
        "dataset = np.loadtxt(data_path + 'PCA_MNIST.csv', delimiter=',',skiprows=1)"
      ],
      "metadata": {
        "id": "V8MTjFzYGjFB"
      },
      "execution_count": 42,
      "outputs": []
    },
    {
      "cell_type": "code",
      "source": [
        "dataset.shape"
      ],
      "metadata": {
        "colab": {
          "base_uri": "https://localhost:8080/"
        },
        "id": "UpTfzfj7a3ve",
        "outputId": "192bdd36-3029-4708-df7d-3fc6be295640"
      },
      "execution_count": 43,
      "outputs": [
        {
          "output_type": "execute_result",
          "data": {
            "text/plain": [
              "(60000, 11)"
            ]
          },
          "metadata": {},
          "execution_count": 43
        }
      ]
    },
    {
      "cell_type": "markdown",
      "source": [
        "First column consists of class information"
      ],
      "metadata": {
        "id": "MRm53iGXSkvB"
      }
    },
    {
      "cell_type": "code",
      "source": [
        "# Normalising dataset needed to prevent exponent going to zero\n",
        "for i in range(1,dataset.shape[1]):\n",
        "  dataset[:,i] = (dataset[:,i]-dataset[:,i].min())/(dataset[:,i].max()-dataset[:,i].min())"
      ],
      "metadata": {
        "id": "i06W-5mucvMk"
      },
      "execution_count": 44,
      "outputs": []
    },
    {
      "cell_type": "markdown",
      "source": [
        "## Splitting into test and train dataset"
      ],
      "metadata": {
        "id": "2HgMeh8AS0vF"
      }
    },
    {
      "cell_type": "code",
      "source": [
        "count = 40000"
      ],
      "metadata": {
        "id": "JICE9hribGIA"
      },
      "execution_count": 45,
      "outputs": []
    },
    {
      "cell_type": "code",
      "source": [
        "X_train = dataset[0:count,1:]"
      ],
      "metadata": {
        "id": "gMzr9-YNa00a"
      },
      "execution_count": 46,
      "outputs": []
    },
    {
      "cell_type": "code",
      "source": [
        "Y_train =dataset[0:count,0]"
      ],
      "metadata": {
        "id": "HoePX_gIdYim"
      },
      "execution_count": 47,
      "outputs": []
    },
    {
      "cell_type": "code",
      "source": [
        "X_test = dataset[count:,1:]"
      ],
      "metadata": {
        "id": "EhNLPynTdhH7"
      },
      "execution_count": 48,
      "outputs": []
    },
    {
      "cell_type": "code",
      "source": [
        "Y_test = dataset[count:,0]"
      ],
      "metadata": {
        "id": "vLo5qOpddlR-"
      },
      "execution_count": 49,
      "outputs": []
    },
    {
      "cell_type": "code",
      "source": [
        "classes = 10 # Here number of classes is 10 change it according to your dataset"
      ],
      "metadata": {
        "id": "ZNFSygCGULCS"
      },
      "execution_count": 50,
      "outputs": []
    },
    {
      "cell_type": "code",
      "source": [
        "features = X_train.shape[1]"
      ],
      "metadata": {
        "id": "vc8kNyEyVUqf"
      },
      "execution_count": 51,
      "outputs": []
    },
    {
      "cell_type": "markdown",
      "source": [
        "## Creating logistic regression class"
      ],
      "metadata": {
        "id": "ZhCJHVGCTCQc"
      }
    },
    {
      "cell_type": "code",
      "source": [
        "def calc_loss(X,W,j):\n",
        "  X=X.reshape((X.shape[0],1))\n",
        "  # calculating probabilities of each class\n",
        "  e=[]                        # exponent\n",
        "  g = []                      # probabilities (softmax)\n",
        "  grad = []                   # gradient addition for this image\n",
        "  for i in range(classes):\n",
        "    e.append(math.exp(W[i].T@X))\n",
        "  k = sum(e)\n",
        "  for i in range(classes):\n",
        "    g.append(e[i]/k)\n",
        "  loss = -1*math.log(g[j])     # loss for 1 image\n",
        "  for i in range(classes):\n",
        "    if i!=j:\n",
        "      grad.append(-g[i]*X.reshape(X.shape[0]))\n",
        "    else:\n",
        "      grad.append((1-g[i])*X.reshape(X.shape[0]))\n",
        "  return loss,grad"
      ],
      "metadata": {
        "id": "IibQimaLWNUV"
      },
      "execution_count": 52,
      "outputs": []
    },
    {
      "cell_type": "code",
      "source": [
        "def train_epoch1(X,Y,W,features,classes):\n",
        "  final_loss = 0\n",
        "  final_grad = np.zeros((features+1,classes))\n",
        "  for i in range(X.shape[0]):\n",
        "    loss,grad = calc_loss(X[i,:],W,int(Y[i]))\n",
        "    final_loss =final_loss + loss\n",
        "    final_grad = final_grad + np.stack(grad,axis = 1)\n",
        "  return final_loss,final_grad"
      ],
      "metadata": {
        "id": "ronXEPsOVxFs"
      },
      "execution_count": 53,
      "outputs": []
    },
    {
      "cell_type": "code",
      "source": [
        "class Logistic_regression:\n",
        "  def __init__(self,epochs = 100,alpha = 10,features = 10 ,classes = 10):\n",
        "    self.alpha = alpha\n",
        "    self.epochs = epochs\n",
        "    self.features=features\n",
        "    self.classes=classes\n",
        "    W=[]\n",
        "    for i in range(10):\n",
        "      W.append(np.ones((11,1))/11)\n",
        "    self.W = W\n",
        "\n",
        "  def train(self,X,Y):\n",
        "    epochs = self.epochs\n",
        "    alpha = self.alpha\n",
        "    W = self.W\n",
        "    tmp = np.ones((X.shape[0],1))  # Creating augmented data\n",
        "    X=np.column_stack((X,tmp))\n",
        "    for i in range(epochs):\n",
        "      loss,grad = train_epoch1(X,Y,W,self.features,self.classes)\n",
        "      for j in range(classes):\n",
        "        gradient = grad[:,j].reshape(grad[:,j].shape[0],1)\n",
        "        W[j]=W[j]+alpha*gradient/X.shape[0]\n",
        "      if(i%10==0):\n",
        "        print('loss in',i,'epoch is',loss/X_train.shape[0])\n",
        "    self.W = W\n",
        "    \n",
        "  def test(self,X,Y):\n",
        "    tmp = np.ones((X.shape[0],1))  # Creating augmented data\n",
        "    X=np.column_stack((X,tmp))\n",
        "    conf_matrix = np.zeros((self.classes,self.classes))\n",
        "    count = 0\n",
        "    loss = 0\n",
        "    W=self.W\n",
        "    for i in range(X.shape[0]):\n",
        "      X_1 = X[i,:]\n",
        "      X_1=X_1.reshape((X_1.shape[0],1))\n",
        "      # calculating probabilities of each class\n",
        "      e=[]                        # exponent\n",
        "      g = []                      # probabilities (softmax)\n",
        "      for j in range(classes):\n",
        "        e.append(math.exp(W[j].T@X_1))\n",
        "      k = sum(e)\n",
        "      for j in range(classes):\n",
        "        g.append(e[j]/k)\n",
        "      k = g.index(max(g))\n",
        "      if k==Y_test[i]:\n",
        "        count = count+1\n",
        "      v = int(Y_test[i])\n",
        "      conf_matrix[v][k] += 1\n",
        "      loss = loss - 1*math.log(g[v])\n",
        "    empirical_risk = loss/X_test.shape[0]\n",
        "    acc = count*100/X.shape[0]\n",
        "    return acc,conf_matrix,empirical_risk\n",
        "\n",
        "  def predict(self,X):\n",
        "    W=self.W\n",
        "    Y_pred = np.zeros(X.shape[0])\n",
        "    tmp = np.ones((X.shape[0],1))  # Creating augmented data\n",
        "    X=np.column_stack((X,tmp))\n",
        "    for i in range(X.shape[0]):\n",
        "      X_1 = X[i,:]\n",
        "      X_1=X_1.reshape((X_1.shape[0],1))\n",
        "      # calculating probabilities of each class\n",
        "      e=[]                        # exponent\n",
        "      g = []                      # probabilities (softmax)\n",
        "      for j in range(classes):\n",
        "        e.append(math.exp(W[j].T@X_1))\n",
        "      k = sum(e)\n",
        "      for j in range(classes):\n",
        "        g.append(e[j]/k)\n",
        "      k = g.index(max(g))\n",
        "      Y_pred[i]=k\n",
        "    return Y_pred"
      ],
      "metadata": {
        "id": "NjPyq5w9TE6d"
      },
      "execution_count": 59,
      "outputs": []
    },
    {
      "cell_type": "markdown",
      "source": [
        "## Running for example dataset"
      ],
      "metadata": {
        "id": "gUk0mG7EXueH"
      }
    },
    {
      "cell_type": "code",
      "source": [
        "l =Logistic_regression()"
      ],
      "metadata": {
        "id": "FcElfnK6Wg0g"
      },
      "execution_count": 61,
      "outputs": []
    },
    {
      "cell_type": "code",
      "source": [
        "l.train(X_train,Y_train)"
      ],
      "metadata": {
        "colab": {
          "base_uri": "https://localhost:8080/"
        },
        "id": "4Fd4seDeXsnS",
        "outputId": "095453cb-bcf9-46c0-f47f-fbbe25bda274"
      },
      "execution_count": 62,
      "outputs": [
        {
          "output_type": "stream",
          "name": "stdout",
          "text": [
            "loss in 0 epoch is 2.3025850929947826\n",
            "loss in 10 epoch is 2.4709195501334\n",
            "loss in 20 epoch is 1.982849778896829\n",
            "loss in 30 epoch is 1.3455708679205158\n",
            "loss in 40 epoch is 1.2589994454644386\n",
            "loss in 50 epoch is 0.9745931884858541\n",
            "loss in 60 epoch is 0.897040369083415\n",
            "loss in 70 epoch is 0.8108161421246585\n",
            "loss in 80 epoch is 0.7562949492875214\n",
            "loss in 90 epoch is 0.7174560438906715\n"
          ]
        }
      ]
    },
    {
      "cell_type": "code",
      "source": [
        "acc,conf_matrix,empirical_risk = l.test(X_test,Y_test)"
      ],
      "metadata": {
        "id": "mfKm_vvxYPG3"
      },
      "execution_count": 63,
      "outputs": []
    },
    {
      "cell_type": "code",
      "source": [
        "print(\"accuracy is:\",acc)\n"
      ],
      "metadata": {
        "colab": {
          "base_uri": "https://localhost:8080/"
        },
        "id": "KWiCm1Klt5xh",
        "outputId": "c7d37c27-8e13-468b-f1e2-6ef3c7244860"
      },
      "execution_count": 64,
      "outputs": [
        {
          "output_type": "stream",
          "name": "stdout",
          "text": [
            "accuracy is: 83.745\n"
          ]
        }
      ]
    },
    {
      "cell_type": "code",
      "source": [
        "y_pred = l.predict(X_test)"
      ],
      "metadata": {
        "id": "Iw3_ounoaFOa"
      },
      "execution_count": 65,
      "outputs": []
    },
    {
      "cell_type": "code",
      "source": [],
      "metadata": {
        "id": "zHWDuBkMvgGK"
      },
      "execution_count": null,
      "outputs": []
    }
  ]
}