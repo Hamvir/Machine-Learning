{
  "nbformat": 4,
  "nbformat_minor": 0,
  "metadata": {
    "colab": {
      "provenance": []
    },
    "kernelspec": {
      "name": "python3",
      "display_name": "Python 3"
    },
    "language_info": {
      "name": "python"
    }
  },
  "cells": [
    {
      "cell_type": "markdown",
      "source": [
        "# Naive Bayes classifier"
      ],
      "metadata": {
        "id": "8Nx3HNBlzTXe"
      }
    },
    {
      "cell_type": "code",
      "execution_count": null,
      "metadata": {
        "id": "oEPJYb3Yl_iJ"
      },
      "outputs": [],
      "source": [
        "import numpy as np\n",
        "import matplotlib.pyplot as plt"
      ]
    },
    {
      "cell_type": "code",
      "source": [
        "import math  # This library is to use normal math functions like exp,sin etc."
      ],
      "metadata": {
        "id": "Q7kF3SRXdYRW"
      },
      "execution_count": null,
      "outputs": []
    },
    {
      "cell_type": "code",
      "source": [
        "# Mounting drive\n",
        "from google.colab import drive\n",
        "drive.mount('/content/drive')"
      ],
      "metadata": {
        "colab": {
          "base_uri": "https://localhost:8080/"
        },
        "id": "h6KcJckQm7eb",
        "outputId": "c7496250-9f57-4a3d-b0ce-875c42a69388"
      },
      "execution_count": null,
      "outputs": [
        {
          "output_type": "stream",
          "name": "stdout",
          "text": [
            "Mounted at /content/drive\n"
          ]
        }
      ]
    },
    {
      "cell_type": "markdown",
      "source": [
        "## Importing data"
      ],
      "metadata": {
        "id": "KFRjfG5gR4_a"
      }
    },
    {
      "cell_type": "code",
      "source": [
        "#below where the file is in gdrive, change with your\n",
        "data_path = \"/content/drive/MyDrive/Colab Notebooks/PRNN_A1/Prnn_datasets/\"\n",
        "dataset = np.loadtxt(data_path + 'PCA_MNIST.csv', delimiter=',',skiprows=1)"
      ],
      "metadata": {
        "id": "V8MTjFzYGjFB"
      },
      "execution_count": null,
      "outputs": []
    },
    {
      "cell_type": "code",
      "source": [
        "dataset.shape"
      ],
      "metadata": {
        "colab": {
          "base_uri": "https://localhost:8080/"
        },
        "id": "UpTfzfj7a3ve",
        "outputId": "bc477742-685a-434f-f1a3-5321e60429ac"
      },
      "execution_count": null,
      "outputs": [
        {
          "output_type": "execute_result",
          "data": {
            "text/plain": [
              "(60000, 11)"
            ]
          },
          "metadata": {},
          "execution_count": 5
        }
      ]
    },
    {
      "cell_type": "markdown",
      "source": [
        "First column consists of class information"
      ],
      "metadata": {
        "id": "MRm53iGXSkvB"
      }
    },
    {
      "cell_type": "code",
      "source": [
        "# Normalising dataset needed to prevent exponent going to zero\n",
        "for i in range(1,dataset.shape[1]):\n",
        "  dataset[:,i] = (dataset[:,i]-dataset[:,i].min())/(dataset[:,i].max()-dataset[:,i].min())"
      ],
      "metadata": {
        "id": "i06W-5mucvMk"
      },
      "execution_count": null,
      "outputs": []
    },
    {
      "cell_type": "markdown",
      "source": [
        "## Splitting into test and train dataset"
      ],
      "metadata": {
        "id": "2HgMeh8AS0vF"
      }
    },
    {
      "cell_type": "code",
      "source": [
        "count = 40000"
      ],
      "metadata": {
        "id": "JICE9hribGIA"
      },
      "execution_count": null,
      "outputs": []
    },
    {
      "cell_type": "code",
      "source": [
        "X_train = dataset[0:count,1:]"
      ],
      "metadata": {
        "id": "gMzr9-YNa00a"
      },
      "execution_count": null,
      "outputs": []
    },
    {
      "cell_type": "code",
      "source": [
        "Y_train =dataset[0:count,0]"
      ],
      "metadata": {
        "id": "HoePX_gIdYim"
      },
      "execution_count": null,
      "outputs": []
    },
    {
      "cell_type": "code",
      "source": [
        "X_test = dataset[count:,1:]"
      ],
      "metadata": {
        "id": "EhNLPynTdhH7"
      },
      "execution_count": null,
      "outputs": []
    },
    {
      "cell_type": "code",
      "source": [
        "Y_test = dataset[count:,0]"
      ],
      "metadata": {
        "id": "vLo5qOpddlR-"
      },
      "execution_count": null,
      "outputs": []
    },
    {
      "cell_type": "code",
      "source": [
        "classes = 10 # Here number of classes is 10 change it according to your dataset"
      ],
      "metadata": {
        "id": "ZNFSygCGULCS"
      },
      "execution_count": null,
      "outputs": []
    },
    {
      "cell_type": "code",
      "source": [
        "features = X_train.shape[1]"
      ],
      "metadata": {
        "id": "vc8kNyEyVUqf"
      },
      "execution_count": null,
      "outputs": []
    },
    {
      "cell_type": "markdown",
      "source": [
        "## Constructing Naive Bayes Class"
      ],
      "metadata": {
        "id": "s-Ak9FZ_zyAe"
      }
    },
    {
      "cell_type": "code",
      "source": [
        "class Naive_Bayes:\n",
        "  def __init__(self,features=10,classes=10):\n",
        "    self.features = features\n",
        "    self.classes = classes\n",
        "\n",
        "    mean=[]   # 10 features' mean for each classes\n",
        "    for i in range(self.classes):\n",
        "      mean.append(np.zeros(self.features))\n",
        "    self.mean = mean\n",
        "\n",
        "    var=[]   # 10 features' mean for each classes\n",
        "    for i in range(self.classes):\n",
        "      var.append(np.ones(self.features))\n",
        "    self.var = var\n",
        "\n",
        "  def train_mean(self,X,Y):    # Finds mean keeps variance constant\n",
        "    # creating training datas for different class\n",
        "    lst = []\n",
        "    mean = self.mean\n",
        "    for i in range(self.classes):\n",
        "      temp = X[np.where(Y[:]==i)]\n",
        "      lst.append(temp)\n",
        "\n",
        "    for i in range(self.classes):\n",
        "      a=lst[i]\n",
        "      a = a.mean(axis=0)\n",
        "      mean[i]=(a)\n",
        "    self.mean = mean\n",
        "  \n",
        "  def train(self,X,Y):    # Finds both mean and variance\n",
        "    # creating training datas for different class\n",
        "    lst = []\n",
        "    mean = self.mean\n",
        "    var = self.var\n",
        "    for i in range(self.classes):\n",
        "      temp = X[np.where(Y[:]==i)]\n",
        "      lst.append(temp)\n",
        "\n",
        "    for i in range(self.classes):\n",
        "      a=lst[i]\n",
        "      a = a.mean(axis=0)\n",
        "      mean[i]= a\n",
        "    self.mean = mean\n",
        "\n",
        "    var = self.var\n",
        "    for i in range(self.classes):\n",
        "      var[i]=np.sqrt(np.sum((lst[i]-mean[i])**2,axis=0)/lst[i].shape[0])\n",
        "    self.var=var\n",
        "  \n",
        "  def test(self,X,Y):\n",
        "    conf_matrix = np.zeros((self.classes,self.classes))\n",
        "    count = 0\n",
        "    mean = self.mean\n",
        "    var = self.var\n",
        "    for i in range(X.shape[0]):\n",
        "      g = []  #class conditionals\n",
        "      for j in range(self.classes):\n",
        "        prod = np.prod(var[j])\n",
        "        v = (X[i]-mean[j])/var[j]\n",
        "        v = np.power(v,2)\n",
        "        k = 0.5 * np.sum(v)\n",
        "        k = math.exp(-k)/prod\n",
        "        g.append(k)\n",
        "      k = g.index(max(g))\n",
        "      if k==int(Y_test[i]):\n",
        "        count=count+1\n",
        "      v = int(Y_test[i])\n",
        "    conf_matrix[v][k] += 1\n",
        "    acc = count*100/X.shape[0]\n",
        "    return acc,conf_matrix\n",
        "    \n",
        "  def predict(self,X):\n",
        "    mean = self.mean\n",
        "    var = self.var\n",
        "    Y_pred = np.zeros(X.shape[0])\n",
        "    for i in range(X.shape[0]):\n",
        "      g = []  #class conditionals\n",
        "      for j in range(self.classes):\n",
        "        prod = np.prod(var[j])\n",
        "        v = (X[i]-mean[j])/var[j]\n",
        "        v = np.power(v,2)\n",
        "        k = 0.5 * np.sum(v)\n",
        "        k = math.exp(-k)/prod\n",
        "        g.append(k)\n",
        "      k = g.index(max(g))\n",
        "      Y_pred[i]=k\n",
        "    return(Y_pred)"
      ],
      "metadata": {
        "id": "0ZLUJnXmz2fq"
      },
      "execution_count": null,
      "outputs": []
    },
    {
      "cell_type": "markdown",
      "source": [
        "## Testing the class code on example dataset with both mean and var update"
      ],
      "metadata": {
        "id": "-5tViAIz8VcO"
      }
    },
    {
      "cell_type": "code",
      "source": [
        "nb = Naive_Bayes()"
      ],
      "metadata": {
        "id": "xV7LATZ58b-q"
      },
      "execution_count": null,
      "outputs": []
    },
    {
      "cell_type": "code",
      "source": [
        "nb.train(X_train,Y_train)"
      ],
      "metadata": {
        "id": "sGTacDqo8mGf"
      },
      "execution_count": null,
      "outputs": []
    },
    {
      "cell_type": "code",
      "source": [
        "acc,conf = nb.test(X_test,Y_test)"
      ],
      "metadata": {
        "id": "MfIj24Tn8pZW"
      },
      "execution_count": null,
      "outputs": []
    },
    {
      "cell_type": "code",
      "source": [
        "print(\"acc is :\",acc)"
      ],
      "metadata": {
        "colab": {
          "base_uri": "https://localhost:8080/"
        },
        "id": "-xCrJr6b9US0",
        "outputId": "7e0b60d3-f838-407c-c080-0e5ae48ba676"
      },
      "execution_count": null,
      "outputs": [
        {
          "output_type": "stream",
          "name": "stdout",
          "text": [
            "acc is : 88.62\n"
          ]
        }
      ]
    },
    {
      "cell_type": "code",
      "source": [
        "y_pred = nb.predict(X_test)"
      ],
      "metadata": {
        "id": "yEJMjiqV9KLr"
      },
      "execution_count": null,
      "outputs": []
    },
    {
      "cell_type": "markdown",
      "source": [
        "## Testing the class code only on mean update"
      ],
      "metadata": {
        "id": "eixfdZd2B8Yd"
      }
    },
    {
      "cell_type": "code",
      "source": [
        "nb = Naive_Bayes()"
      ],
      "metadata": {
        "id": "fhWRIWUACBok"
      },
      "execution_count": null,
      "outputs": []
    },
    {
      "cell_type": "code",
      "source": [
        "nb.train_mean(X_train,Y_train)"
      ],
      "metadata": {
        "id": "axRUVd_NCBol"
      },
      "execution_count": null,
      "outputs": []
    },
    {
      "cell_type": "code",
      "source": [
        "acc,conf = nb.test(X_test,Y_test)"
      ],
      "metadata": {
        "id": "CwPdduWVCBol"
      },
      "execution_count": null,
      "outputs": []
    },
    {
      "cell_type": "code",
      "source": [
        "print(\"acc is :\",acc)"
      ],
      "metadata": {
        "colab": {
          "base_uri": "https://localhost:8080/"
        },
        "outputId": "ace02693-b778-453d-dbe3-68fbe7b1729d",
        "id": "SqjgAtrHCBom"
      },
      "execution_count": null,
      "outputs": [
        {
          "output_type": "stream",
          "name": "stdout",
          "text": [
            "acc is : 85.84\n"
          ]
        }
      ]
    },
    {
      "cell_type": "code",
      "source": [
        "y_pred = nb.predict(X_test)"
      ],
      "metadata": {
        "id": "khZQ-HNRCBo5"
      },
      "execution_count": null,
      "outputs": []
    }
  ]
}