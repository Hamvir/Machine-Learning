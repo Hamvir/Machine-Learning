{
  "nbformat": 4,
  "nbformat_minor": 0,
  "metadata": {
    "colab": {
      "provenance": []
    },
    "kernelspec": {
      "name": "python3",
      "display_name": "Python 3"
    },
    "language_info": {
      "name": "python"
    }
  },
  "cells": [
    {
      "cell_type": "markdown",
      "source": [
        "# Random Forest"
      ],
      "metadata": {
        "id": "krb0yG-5Hwe5"
      }
    },
    {
      "cell_type": "code",
      "execution_count": 1,
      "metadata": {
        "id": "RInJTpj-ZhcS"
      },
      "outputs": [],
      "source": [
        "import numpy as np\n",
        "import math"
      ]
    },
    {
      "cell_type": "code",
      "source": [
        "# Mounting drive\n",
        "from google.colab import drive\n",
        "drive.mount('/content/drive')"
      ],
      "metadata": {
        "colab": {
          "base_uri": "https://localhost:8080/"
        },
        "id": "h6KcJckQm7eb",
        "outputId": "edfc6a44-b2cc-43aa-f60e-d762c994d2bc"
      },
      "execution_count": 2,
      "outputs": [
        {
          "output_type": "stream",
          "name": "stdout",
          "text": [
            "Mounted at /content/drive\n"
          ]
        }
      ]
    },
    {
      "cell_type": "markdown",
      "source": [
        "## Preparing Dataset"
      ],
      "metadata": {
        "id": "AE1_jrpiH-k7"
      }
    },
    {
      "cell_type": "code",
      "execution_count": 3,
      "metadata": {
        "id": "_u8l2ZKAIFP-"
      },
      "outputs": [],
      "source": [
        "import numpy as np\n",
        "import math"
      ]
    },
    {
      "cell_type": "code",
      "source": [
        "#below where the file is in gdrive, change with your\n",
        "data_path = \"/content/drive/MyDrive/Colab Notebooks/PRNN_A1/Prnn_datasets/\"\n",
        "dataset = np.loadtxt(data_path + 'PCA_MNIST.csv', delimiter=',',skiprows=1)"
      ],
      "metadata": {
        "id": "MHbcmEolUJ4_"
      },
      "execution_count": 4,
      "outputs": []
    },
    {
      "cell_type": "code",
      "source": [
        "dataset.shape"
      ],
      "metadata": {
        "colab": {
          "base_uri": "https://localhost:8080/"
        },
        "outputId": "256552b1-d557-4758-c2f0-ad9b759628f8",
        "id": "lVSMWRPJUJ5A"
      },
      "execution_count": 5,
      "outputs": [
        {
          "output_type": "execute_result",
          "data": {
            "text/plain": [
              "(60000, 11)"
            ]
          },
          "metadata": {},
          "execution_count": 5
        }
      ]
    },
    {
      "cell_type": "code",
      "source": [
        "# Normalizing dataset\n",
        "for i in range(1,dataset.shape[1]):\n",
        "  dataset[:,i] = (dataset[:,i]-dataset[:,i].min())/(dataset[:,i].max()-dataset[:,i].min())"
      ],
      "metadata": {
        "id": "wu8qmf4UUJ5B"
      },
      "execution_count": 6,
      "outputs": []
    },
    {
      "cell_type": "code",
      "source": [
        "classes = 10\n",
        "features = 10"
      ],
      "metadata": {
        "id": "3rB2BueMsX8r"
      },
      "execution_count": 7,
      "outputs": []
    },
    {
      "cell_type": "code",
      "source": [
        "train_dataset = dataset[0:40000,:]\n",
        "test_dataset = dataset[40000:,:]"
      ],
      "metadata": {
        "id": "mWPYUfNsueDQ"
      },
      "execution_count": 8,
      "outputs": []
    },
    {
      "cell_type": "markdown",
      "source": [
        "## Creating random forest class"
      ],
      "metadata": {
        "id": "SNIXV_xMIdh3"
      }
    },
    {
      "cell_type": "markdown",
      "source": [
        " DATA FORMAT - Both train and test Dataset should contain first column as class\n",
        "Each column should be normalised"
      ],
      "metadata": {
        "id": "bm2bJpG7tg_o"
      }
    },
    {
      "cell_type": "code",
      "source": [
        "class node():\n",
        "  def __init__(self, value,feature,left,right,leaf,depth,cls):\n",
        "    self.value = value\n",
        "    self.left = left\n",
        "    self.right = right\n",
        "    self.depth = depth\n",
        "    self.leaf = leaf\n",
        "    self.feature = feature\n",
        "    self.cls  = cls "
      ],
      "metadata": {
        "id": "bfpAaDFqtg_o"
      },
      "execution_count": 10,
      "outputs": []
    },
    {
      "cell_type": "code",
      "source": [
        "def entropy(D):\n",
        "  sum = 0\n",
        "  x = np.unique(D[:,0])\n",
        "  for i in range(x.shape[0]):\n",
        "    d = D[D[:,0]==x[i]]\n",
        "    p = d.shape[0]/D.shape[0]\n",
        "    temp = p * math.log(p)\n",
        "    sum =sum + temp\n",
        "  sum = -sum\n",
        "  return(sum)"
      ],
      "metadata": {
        "id": "hZfPkjLftg_o"
      },
      "execution_count": 11,
      "outputs": []
    },
    {
      "cell_type": "code",
      "source": [
        "def maj(D):\n",
        "  x = np.unique(D[:,0])\n",
        "  max_cls = 0\n",
        "  max_count = 0\n",
        "  for i in range(x.shape[0]):\n",
        "    d = D[D[:,0]==x[i]]\n",
        "    if(max_count<d.shape[0]):\n",
        "      max_count = d.shape[0]\n",
        "      max_cls = x[i]\n",
        "  return(max_cls)"
      ],
      "metadata": {
        "id": "g2os3-Aktg_p"
      },
      "execution_count": 12,
      "outputs": []
    },
    {
      "cell_type": "code",
      "source": [
        "def perc_maj_cls(D):\n",
        "  x = np.unique(D[:,0])\n",
        "  max_cls = 0\n",
        "  max_count = 0\n",
        "  for i in range(x.shape[0]):\n",
        "    d = D[D[:,0]==x[i]]\n",
        "    if(max_count<d.shape[0]):\n",
        "      max_count = d.shape[0]\n",
        "      max_cls = x[i]\n",
        "  if(max_count/D.shape[0] >0.95):\n",
        "    return(max_cls)\n",
        "  else:\n",
        "    return(-1)"
      ],
      "metadata": {
        "id": "adxpySN6tg_p"
      },
      "execution_count": 13,
      "outputs": []
    },
    {
      "cell_type": "code",
      "source": [
        "def grow_trees_with_slct_ftr(D,depth,k,indices): # i is depth, k is max depth\n",
        "  if(depth>=k or D.shape[0]==0):          # user defined depth\n",
        "    return(None)\n",
        "  cls = perc_maj_cls(D)\n",
        "  if(cls!=-1):\n",
        "    return(node(0,0,None,None,1,depth,cls))\n",
        "  ent = -1\n",
        "  featur=0\n",
        "  value=0\n",
        "  for features in indices: # first column is ans\n",
        "    # d = D[:,features]\n",
        "    # d = np.unique(d)                 # commented code necessary if want to check for each datapoint\n",
        "    # d = np.sort(d)\n",
        "    for i in range(1,100):\n",
        "      d1 = D[D[:,features]<i/100]\n",
        "      d2 = D[D[:,features]>=i/100]\n",
        "      p1 = d1.shape[0]/D.shape[0]\n",
        "      p2 = d2.shape[0]/D.shape[0]\n",
        "      entropy_split = p1 * entropy(d1)+ p2*entropy(d2)\n",
        "      if(entropy_split<ent or ent==-1):\n",
        "        featur = features\n",
        "        value = i/100\n",
        "        D1 = d1\n",
        "        D2 = d2\n",
        "        ent =entropy_split\n",
        "  left = grow_trees_with_slct_ftr(D1,depth+1,k,indices)\n",
        "  right = grow_trees_with_slct_ftr(D2,depth+1,k,indices)\n",
        "  leaf = 0\n",
        "  if left==None and right == None:\n",
        "    cls = maj(D)\n",
        "    leaf = 1\n",
        "  else:\n",
        "    cls = -1\n",
        "  return(node(value,featur,left,right,leaf,depth,cls))"
      ],
      "metadata": {
        "id": "xpjP6KrGZmFG"
      },
      "execution_count": 14,
      "outputs": []
    },
    {
      "cell_type": "code",
      "source": [
        "def run_decision_tree(D,root):\n",
        "  y=np.zeros(D.shape[0])\n",
        "  for i in range(D.shape[0]):\n",
        "    nd =root\n",
        "    while(1):\n",
        "      if nd.leaf ==1:\n",
        "        y[i] = nd.cls\n",
        "        break\n",
        "      if(D[i][nd.feature]<nd.value):\n",
        "        nd = nd.left\n",
        "      else:\n",
        "        nd = nd.right\n",
        "  return(y)"
      ],
      "metadata": {
        "id": "Qqe3o0eutg_r"
      },
      "execution_count": 20,
      "outputs": []
    },
    {
      "cell_type": "code",
      "source": [
        "def random_forest(D,max_depth,d,t): # D is dataset and d is number of features and t is number of trees\n",
        "  root=[]\n",
        "  for i in range(t):\n",
        "    indices = np.random.choice(len(D), size=D.shape[0], replace=True)      # selecting rows with replacement\n",
        "    D_i = D[indices,:]\n",
        "    #D_i = select_feature(D_i,d)\n",
        "    a=np.zeros(D_i.shape[1]-1)\n",
        "    for i in range(1,D_i.shape[1]):\n",
        "      a[i-1]=i\n",
        "    a = a.astype(int)\n",
        "    indices = np.random.choice(a, size=d, replace=False)                   # selecting features without replacement\n",
        "    root.append(grow_trees_with_slct_ftr(D_i,0,max_depth,indices))\n",
        "  return(root)"
      ],
      "metadata": {
        "id": "piB0_P-1Vjlj"
      },
      "execution_count": 15,
      "outputs": []
    },
    {
      "cell_type": "code",
      "source": [
        "def run_random_forest(D,root):\n",
        "  j=0\n",
        "  lst = []\n",
        "  for j in range(len(root)):\n",
        "    y = run_decision_tree(D,root[j])\n",
        "    lst.append(y)\n",
        "  y = np.array(lst)\n",
        "  ans = np.zeros(D.shape[0])\n",
        "  for i in range(y.shape[1]): # number of datapoints\n",
        "    index = np.zeros(10)  # number of classes\n",
        "    for k in range(y.shape[0]): # number of trees\n",
        "      index[int(y[k][i])]+=1\n",
        "    id = np.argmax(index)\n",
        "    ans[i]=id\n",
        "  return(ans)"
      ],
      "metadata": {
        "id": "lY6A6lwObFUj"
      },
      "execution_count": 16,
      "outputs": []
    },
    {
      "cell_type": "code",
      "source": [
        "class Random_forest:\n",
        "  def __init__(self,max_depth=5,no_trees = 8,no_features = 5): # no_features is number of feature to be selected without replacement from total features\n",
        "    self.max_depth = max_depth\n",
        "    self.no_trees = no_trees\n",
        "    self.no_features = no_features\n",
        "  def train(self,D):\n",
        "    self.root = random_forest(D,self.max_depth,self.no_features,self.no_trees)\n",
        "\n",
        "  def test(self,D):\n",
        "    y = run_random_forest(D,self.root)\n",
        "    acc = np.sum(y==D[:,0])/D.shape[0]\n",
        "    return(acc)\n",
        "\n",
        "  def predict(self,D):\n",
        "    y_pred = run_random_forest(D,self.root)\n",
        "    return(y_pred)"
      ],
      "metadata": {
        "id": "ipB00OXZSCum"
      },
      "execution_count": 17,
      "outputs": []
    },
    {
      "cell_type": "markdown",
      "source": [
        "## Testing random forest algo on example dataset"
      ],
      "metadata": {
        "id": "Iut7gK71T9Xf"
      }
    },
    {
      "cell_type": "code",
      "source": [
        "rf =Random_forest()"
      ],
      "metadata": {
        "id": "SqayiYrOUBJ8"
      },
      "execution_count": 21,
      "outputs": []
    },
    {
      "cell_type": "code",
      "source": [
        "rf.train(train_dataset)"
      ],
      "metadata": {
        "id": "9UrxH0ADUDwI"
      },
      "execution_count": 22,
      "outputs": []
    },
    {
      "cell_type": "code",
      "source": [
        "acc = rf.test(test_dataset)\n",
        "print(acc)"
      ],
      "metadata": {
        "colab": {
          "base_uri": "https://localhost:8080/"
        },
        "id": "DQJBKJixUFlP",
        "outputId": "507e0aeb-1126-4f08-93d6-7eb0a3c712b1"
      },
      "execution_count": 23,
      "outputs": [
        {
          "output_type": "execute_result",
          "data": {
            "text/plain": [
              "0.80735"
            ]
          },
          "metadata": {},
          "execution_count": 23
        }
      ]
    },
    {
      "cell_type": "code",
      "source": [
        "acc = rf.test(train_dataset)\n",
        "print(acc)"
      ],
      "metadata": {
        "colab": {
          "base_uri": "https://localhost:8080/"
        },
        "id": "RESbpW1uUaQa",
        "outputId": "dcab6df2-b1d4-4e33-c9af-96edb17d761e"
      },
      "execution_count": 24,
      "outputs": [
        {
          "output_type": "stream",
          "name": "stdout",
          "text": [
            "0.772725\n"
          ]
        }
      ]
    },
    {
      "cell_type": "code",
      "source": [
        "y = rf.predict(test_dataset)"
      ],
      "metadata": {
        "id": "iCjJsLpzUhLV"
      },
      "execution_count": 25,
      "outputs": []
    }
  ]
}